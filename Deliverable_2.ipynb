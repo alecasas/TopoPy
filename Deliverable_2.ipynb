{
  "nbformat": 4,
  "nbformat_minor": 0,
  "metadata": {
    "colab": {
      "name": "Deliverable_2.ipynb",
      "provenance": [],
      "collapsed_sections": []
    },
    "kernelspec": {
      "name": "python3",
      "display_name": "Python 3"
    },
    "language_info": {
      "name": "python"
    }
  },
  "cells": [
    {
      "cell_type": "code",
      "execution_count": 1,
      "metadata": {
        "colab": {
          "base_uri": "https://localhost:8080/"
        },
        "id": "l6C9bT4oX0T4",
        "outputId": "cec878dd-5701-45fb-fe69-30dbbc92fe03"
      },
      "outputs": [
        {
          "output_type": "stream",
          "name": "stdout",
          "text": [
            "Collecting mlpack\n",
            "  Downloading mlpack-3.4.2-cp37-cp37m-manylinux1_x86_64.whl (93.0 MB)\n",
            "\u001b[K     |████████████████████████████████| 93.0 MB 54 kB/s \n",
            "\u001b[?25hRequirement already satisfied: cython>=0.24 in /usr/local/lib/python3.7/dist-packages (from mlpack) (0.29.28)\n",
            "Requirement already satisfied: pandas in /usr/local/lib/python3.7/dist-packages (from mlpack) (1.3.5)\n",
            "Requirement already satisfied: numpy in /usr/local/lib/python3.7/dist-packages (from mlpack) (1.21.6)\n",
            "Requirement already satisfied: python-dateutil>=2.7.3 in /usr/local/lib/python3.7/dist-packages (from pandas->mlpack) (2.8.2)\n",
            "Requirement already satisfied: pytz>=2017.3 in /usr/local/lib/python3.7/dist-packages (from pandas->mlpack) (2022.1)\n",
            "Requirement already satisfied: six>=1.5 in /usr/local/lib/python3.7/dist-packages (from python-dateutil>=2.7.3->pandas->mlpack) (1.15.0)\n",
            "Installing collected packages: mlpack\n",
            "Successfully installed mlpack-3.4.2\n",
            "Collecting conda\n",
            "  Downloading conda-4.3.16.tar.gz (299 kB)\n",
            "\u001b[K     |████████████████████████████████| 299 kB 8.5 MB/s \n",
            "\u001b[?25hCollecting pycosat>=0.6.1\n",
            "  Downloading pycosat-0.6.3.zip (66 kB)\n",
            "\u001b[K     |████████████████████████████████| 66 kB 4.9 MB/s \n",
            "\u001b[?25hRequirement already satisfied: requests>=2.12.4 in /usr/local/lib/python3.7/dist-packages (from conda) (2.23.0)\n",
            "Collecting ruamel.yaml>=0.11.14\n",
            "  Downloading ruamel.yaml-0.17.21-py3-none-any.whl (109 kB)\n",
            "\u001b[K     |████████████████████████████████| 109 kB 61.6 MB/s \n",
            "\u001b[?25hRequirement already satisfied: chardet<4,>=3.0.2 in /usr/local/lib/python3.7/dist-packages (from requests>=2.12.4->conda) (3.0.4)\n",
            "Requirement already satisfied: urllib3!=1.25.0,!=1.25.1,<1.26,>=1.21.1 in /usr/local/lib/python3.7/dist-packages (from requests>=2.12.4->conda) (1.24.3)\n",
            "Requirement already satisfied: certifi>=2017.4.17 in /usr/local/lib/python3.7/dist-packages (from requests>=2.12.4->conda) (2021.10.8)\n",
            "Requirement already satisfied: idna<3,>=2.5 in /usr/local/lib/python3.7/dist-packages (from requests>=2.12.4->conda) (2.10)\n",
            "Collecting ruamel.yaml.clib>=0.2.6\n",
            "  Downloading ruamel.yaml.clib-0.2.6-cp37-cp37m-manylinux1_x86_64.whl (546 kB)\n",
            "\u001b[K     |████████████████████████████████| 546 kB 38.3 MB/s \n",
            "\u001b[?25hBuilding wheels for collected packages: conda, pycosat\n",
            "  Building wheel for conda (setup.py) ... \u001b[?25l\u001b[?25hdone\n",
            "  Created wheel for conda: filename=conda-4.3.16-py3-none-any.whl size=336960 sha256=9e55f165e23c789829192ed9bb329f3b638fdc8bf2a2c3e8936290961dce3d2b\n",
            "  Stored in directory: /root/.cache/pip/wheels/66/ec/2c/cce33d7a071720882d948fd3364d3ff5562bac9e5638768d41\n",
            "  Building wheel for pycosat (setup.py) ... \u001b[?25l\u001b[?25hdone\n",
            "  Created wheel for pycosat: filename=pycosat-0.6.3-cp37-cp37m-linux_x86_64.whl size=143866 sha256=0bc5529543f92c4847ec9146ff1ebfbb7634b8a674d0f9cbd618eedfa58bac6f\n",
            "  Stored in directory: /root/.cache/pip/wheels/c8/29/0e/a226b7c5a4f24e246f25201c0b1fbf6fb8f19f9cce89b02c36\n",
            "Successfully built conda pycosat\n",
            "Installing collected packages: ruamel.yaml.clib, ruamel.yaml, pycosat, conda\n",
            "Successfully installed conda-4.3.16 pycosat-0.6.3 ruamel.yaml-0.17.21 ruamel.yaml.clib-0.2.6\n",
            "ERROR: The install method you used for conda--probably either `pip install conda`\n",
            "or `easy_install conda`--is not compatible with using conda as an application.\n",
            "If your intention is to install conda as a standalone application, currently\n",
            "supported install methods include the Anaconda installer and the miniconda\n",
            "installer.  You can download the miniconda installer from\n",
            "https://conda.io/miniconda.html.\n",
            "\n"
          ]
        }
      ],
      "source": [
        "!pip install mlpack\n",
        "!pip install conda\n",
        "!conda install -c mlpack mlpack"
      ]
    },
    {
      "cell_type": "code",
      "source": [
        "from sklearn import datasets\n",
        "from mlpack import emst\n",
        "import pandas as pd\n",
        "import numpy as np\n",
        "import matplotlib.pyplot as plt\n",
        "from scipy.spatial import ConvexHull\n",
        "import timeit"
      ],
      "metadata": {
        "id": "vM2azJPAX6ZP"
      },
      "execution_count": 151,
      "outputs": []
    },
    {
      "cell_type": "markdown",
      "source": [
        "# ***Start of TopoPy***"
      ],
      "metadata": {
        "id": "z5kd3i2h56I9"
      }
    },
    {
      "cell_type": "markdown",
      "source": [
        "*Finding the rigid motion (rotation plus translation) that minimizes the sum of squared distances to the expanded convex hull without penetrating it.*"
      ],
      "metadata": {
        "id": "k-XNEA6ZzuxC"
      }
    },
    {
      "cell_type": "code",
      "source": [
        "def calculate_angle(point1, point2):\n",
        "  x = point2[0] - point1[0]\n",
        "  y = point2[1] - point1[1]\n",
        "  angle = -np.arctan2(y, x)\n",
        "  return angle"
      ],
      "metadata": {
        "id": "nHks2wi9YWZt"
      },
      "execution_count": 250,
      "outputs": []
    },
    {
      "cell_type": "markdown",
      "source": [
        "*Convex hull is used to perform the alignment by appropriately transforming both components.*"
      ],
      "metadata": {
        "id": "Y_RJ0ryf3XyW"
      }
    },
    {
      "cell_type": "code",
      "source": [
        "def align_hull(points, vertices, top):\n",
        "  center = points[vertices[0]]\n",
        "  rotated_points = np.zeros((0, 2))\n",
        "\n",
        "  if top == True: # bottom edge of convex hull parallel to x-axis\n",
        "    angle = calculate_angle(points[vertices[0]], points[vertices[1]])\n",
        "  else: # top edge of convex hull parallel to x-axis\n",
        "    angle = calculate_angle(points[vertices[0]], points[vertices[1]]) + np.pi\n",
        "\n",
        "  for i in range(points.shape[0]):\n",
        "    if i == vertices[0]: \n",
        "      rotated_points = np.vstack((rotated_points, center))\n",
        "    else:\n",
        "      x = points[i][0] - center[0]\n",
        "      y = points[i][1] - center[1]\n",
        "\n",
        "      x_prime = (x*np.cos(angle)) - (y*np.sin(angle)) + center[0]\n",
        "      y_prime = (x*np.sin(angle)) + (y*np.cos(angle)) + center[1]\n",
        "\n",
        "      xy_prime = np.array([x_prime, y_prime])\n",
        "      rotated_points = np.vstack((rotated_points, xy_prime))\n",
        "\n",
        "  rotated_points = rotated_points - center\n",
        "  return rotated_points "
      ],
      "metadata": {
        "id": "igV-qdR3YxHA"
      },
      "execution_count": 255,
      "outputs": []
    },
    {
      "cell_type": "code",
      "source": [
        "pts = np.array([(-7,8),(-4,6), (2,6), (6,4), (8,6), (7,-2)])\n",
        "hull = ConvexHull(pts)\n",
        "hull_pts = align_hull(pts, hull.vertices, True)\n",
        "x = pts[:,0]\n",
        "y = pts[:,1]\n",
        "plt.title(\"Original Sample Points\")\n",
        "plt.plot(x, y, color = \"darkseagreen\", marker = \"o\", linestyle=':')\n"
      ],
      "metadata": {
        "colab": {
          "base_uri": "https://localhost:8080/",
          "height": 299
        },
        "id": "zTThm4ngVbzB",
        "outputId": "2cf729f4-29ae-4488-ce75-8f48dc933055"
      },
      "execution_count": 256,
      "outputs": [
        {
          "output_type": "execute_result",
          "data": {
            "text/plain": [
              "[<matplotlib.lines.Line2D at 0x7fc1f719e890>]"
            ]
          },
          "metadata": {},
          "execution_count": 256
        },
        {
          "output_type": "display_data",
          "data": {
            "text/plain": [
              "<Figure size 432x288 with 1 Axes>"
            ],
            "image/png": "[encoded data removed]"
          },
          "metadata": {
            "needs_background": "light"
          }
        }
      ]
    },
    {
      "cell_type": "code",
      "source": [
        "x = hull_pts[:,0]\n",
        "y = hull_pts[:,1]\n",
        "plt.title(\"Once Rotated Sample Points\")\n",
        "plt.plot(x, y, color='dodgerblue', marker = \"o\", linestyle=':')\n"
      ],
      "metadata": {
        "colab": {
          "base_uri": "https://localhost:8080/",
          "height": 299
        },
        "id": "rHcgefRoXbo8",
        "outputId": "af12796e-fa0c-4fe9-ded1-89f5c61daa1c"
      },
      "execution_count": 257,
      "outputs": [
        {
          "output_type": "execute_result",
          "data": {
            "text/plain": [
              "[<matplotlib.lines.Line2D at 0x7fc1f6c34950>]"
            ]
          },
          "metadata": {},
          "execution_count": 257
        },
        {
          "output_type": "display_data",
          "data": {
            "text/plain": [
              "<Figure size 432x288 with 1 Axes>"
            ],
            "image/png": "[encoded data removed]"
          },
          "metadata": {
            "needs_background": "light"
          }
        }
      ]
    },
    {
      "cell_type": "code",
      "source": [
        "hull2 = ConvexHull(hull_pts)\n",
        "hull_pts2 = align_hull(hull_pts, hull2.vertices, True)\n",
        "x = hull_pts2[:,0]\n",
        "y = hull_pts2[:,1]\n",
        "plt.title(\"Twice Rotated Sample Points\")\n",
        "plt.plot(x, y, color='coral', marker = \"o\", linestyle=':')\n"
      ],
      "metadata": {
        "colab": {
          "base_uri": "https://localhost:8080/",
          "height": 299
        },
        "id": "Yev79wFObLWz",
        "outputId": "44552d0e-2060-46dc-cd83-2e95b53240d3"
      },
      "execution_count": 258,
      "outputs": [
        {
          "output_type": "execute_result",
          "data": {
            "text/plain": [
              "[<matplotlib.lines.Line2D at 0x7fc1f6959e50>]"
            ]
          },
          "metadata": {},
          "execution_count": 258
        },
        {
          "output_type": "display_data",
          "data": {
            "text/plain": [
              "<Figure size 432x288 with 1 Axes>"
            ],
            "image/png": "[encoded data removed]"
          },
          "metadata": {
            "needs_background": "light"
          }
        }
      ]
    },
    {
      "cell_type": "markdown",
      "source": [
        "# ***Loading Iris Dataset***"
      ],
      "metadata": {
        "id": "bx2n72qp6Ibw"
      }
    },
    {
      "cell_type": "code",
      "source": [
        "#Iris Dataset\n",
        "iris = datasets.load_iris()\n",
        "iris_df = pd.DataFrame(data=iris.data, columns=iris.feature_names)\n",
        "iris_df[\"target\"] = iris.target\n",
        "iris_df.drop_duplicates(inplace = True)\n",
        "iris_df"
      ],
      "metadata": {
        "id": "yZKkWsMEhYIj",
        "colab": {
          "base_uri": "https://localhost:8080/",
          "height": 423
        },
        "outputId": "293ee17c-eeea-4e44-a77b-e402ef26a341"
      },
      "execution_count": 130,
      "outputs": [
        {
          "output_type": "execute_result",
          "data": {
            "text/plain": [
              "     sepal length (cm)  sepal width (cm)  petal length (cm)  petal width (cm)  \\\n",
              "0                  5.1               3.5                1.4               0.2   \n",
              "1                  4.9               3.0                1.4               0.2   \n",
              "2                  4.7               3.2                1.3               0.2   \n",
              "3                  4.6               3.1                1.5               0.2   \n",
              "4                  5.0               3.6                1.4               0.2   \n",
              "..                 ...               ...                ...               ...   \n",
              "145                6.7               3.0                5.2               2.3   \n",
              "146                6.3               2.5                5.0               1.9   \n",
              "147                6.5               3.0                5.2               2.0   \n",
              "148                6.2               3.4                5.4               2.3   \n",
              "149                5.9               3.0                5.1               1.8   \n",
              "\n",
              "     target  \n",
              "0         0  \n",
              "1         0  \n",
              "2         0  \n",
              "3         0  \n",
              "4         0  \n",
              "..      ...  \n",
              "145       2  \n",
              "146       2  \n",
              "147       2  \n",
              "148       2  \n",
              "149       2  \n",
              "\n",
              "[149 rows x 5 columns]"
            ],
            "text/html": [
              "\n",
              "  <div id=\"df-9283ef35-e196-4d8d-8020-e699aa6ba32c\">\n",
              "    <div class=\"colab-df-container\">\n",
              "      <div>\n",
              "<style scoped>\n",
              "    .dataframe tbody tr th:only-of-type {\n",
              "        vertical-align: middle;\n",
              "    }\n",
              "\n",
              "    .dataframe tbody tr th {\n",
              "        vertical-align: top;\n",
              "    }\n",
              "\n",
              "    .dataframe thead th {\n",
              "        text-align: right;\n",
              "    }\n",
              "</style>\n",
              "<table border=\"1\" class=\"dataframe\">\n",
              "  <thead>\n",
              "    <tr style=\"text-align: right;\">\n",
              "      <th></th>\n",
              "      <th>sepal length (cm)</th>\n",
              "      <th>sepal width (cm)</th>\n",
              "      <th>petal length (cm)</th>\n",
              "      <th>petal width (cm)</th>\n",
              "      <th>target</th>\n",
              "    </tr>\n",
              "  </thead>\n",
              "  <tbody>\n",
              "    <tr>\n",
              "      <th>0</th>\n",
              "      <td>5.1</td>\n",
              "      <td>3.5</td>\n",
              "      <td>1.4</td>\n",
              "      <td>0.2</td>\n",
              "      <td>0</td>\n",
              "    </tr>\n",
              "    <tr>\n",
              "      <th>1</th>\n",
              "      <td>4.9</td>\n",
              "      <td>3.0</td>\n",
              "      <td>1.4</td>\n",
              "      <td>0.2</td>\n",
              "      <td>0</td>\n",
              "    </tr>\n",
              "    <tr>\n",
              "      <th>2</th>\n",
              "      <td>4.7</td>\n",
              "      <td>3.2</td>\n",
              "      <td>1.3</td>\n",
              "      <td>0.2</td>\n",
              "      <td>0</td>\n",
              "    </tr>\n",
              "    <tr>\n",
              "      <th>3</th>\n",
              "      <td>4.6</td>\n",
              "      <td>3.1</td>\n",
              "      <td>1.5</td>\n",
              "      <td>0.2</td>\n",
              "      <td>0</td>\n",
              "    </tr>\n",
              "    <tr>\n",
              "      <th>4</th>\n",
              "      <td>5.0</td>\n",
              "      <td>3.6</td>\n",
              "      <td>1.4</td>\n",
              "      <td>0.2</td>\n",
              "      <td>0</td>\n",
              "    </tr>\n",
              "    <tr>\n",
              "      <th>...</th>\n",
              "      <td>...</td>\n",
              "      <td>...</td>\n",
              "      <td>...</td>\n",
              "      <td>...</td>\n",
              "      <td>...</td>\n",
              "    </tr>\n",
              "    <tr>\n",
              "      <th>145</th>\n",
              "      <td>6.7</td>\n",
              "      <td>3.0</td>\n",
              "      <td>5.2</td>\n",
              "      <td>2.3</td>\n",
              "      <td>2</td>\n",
              "    </tr>\n",
              "    <tr>\n",
              "      <th>146</th>\n",
              "      <td>6.3</td>\n",
              "      <td>2.5</td>\n",
              "      <td>5.0</td>\n",
              "      <td>1.9</td>\n",
              "      <td>2</td>\n",
              "    </tr>\n",
              "    <tr>\n",
              "      <th>147</th>\n",
              "      <td>6.5</td>\n",
              "      <td>3.0</td>\n",
              "      <td>5.2</td>\n",
              "      <td>2.0</td>\n",
              "      <td>2</td>\n",
              "    </tr>\n",
              "    <tr>\n",
              "      <th>148</th>\n",
              "      <td>6.2</td>\n",
              "      <td>3.4</td>\n",
              "      <td>5.4</td>\n",
              "      <td>2.3</td>\n",
              "      <td>2</td>\n",
              "    </tr>\n",
              "    <tr>\n",
              "      <th>149</th>\n",
              "      <td>5.9</td>\n",
              "      <td>3.0</td>\n",
              "      <td>5.1</td>\n",
              "      <td>1.8</td>\n",
              "      <td>2</td>\n",
              "    </tr>\n",
              "  </tbody>\n",
              "</table>\n",
              "<p>149 rows × 5 columns</p>\n",
              "</div>\n",
              "      <button class=\"colab-df-convert\" onclick=\"convertToInteractive('df-9283ef35-e196-4d8d-8020-e699aa6ba32c')\"\n",
              "              title=\"Convert this dataframe to an interactive table.\"\n",
              "              style=\"display:none;\">\n",
              "        \n",
              "  <svg xmlns=\"http://www.w3.org/2000/svg\" height=\"24px\"viewBox=\"0 0 24 24\"\n",
              "       width=\"24px\">\n",
              "    <path d=\"M0 0h24v24H0V0z\" fill=\"none\"/>\n",
              "    <path d=\"M18.56 5.44l.94 2.06.94-2.06 2.06-.94-2.06-.94-.94-2.06-.94 2.06-2.06.94zm-11 1L8.5 8.5l.94-2.06 2.06-.94-2.06-.94L8.5 2.5l-.94 2.06-2.06.94zm10 10l.94 2.06.94-2.06 2.06-.94-2.06-.94-.94-2.06-.94 2.06-2.06.94z\"/><path d=\"M17.41 7.96l-1.37-1.37c-.4-.4-.92-.59-1.43-.59-.52 0-1.04.2-1.43.59L10.3 9.45l-7.72 7.72c-.78.78-.78 2.05 0 2.83L4 21.41c.39.39.9.59 1.41.59.51 0 1.02-.2 1.41-.59l7.78-7.78 2.81-2.81c.8-.78.8-2.07 0-2.86zM5.41 20L4 18.59l7.72-7.72 1.47 1.35L5.41 20z\"/>\n",
              "  </svg>\n",
              "      </button>\n",
              "      \n",
              "  <style>\n",
              "    .colab-df-container {\n",
              "      display:flex;\n",
              "      flex-wrap:wrap;\n",
              "      gap: 12px;\n",
              "    }\n",
              "\n",
              "    .colab-df-convert {\n",
              "      background-color: #E8F0FE;\n",
              "      border: none;\n",
              "      border-radius: 50%;\n",
              "      cursor: pointer;\n",
              "      display: none;\n",
              "      fill: #1967D2;\n",
              "      height: 32px;\n",
              "      padding: 0 0 0 0;\n",
              "      width: 32px;\n",
              "    }\n",
              "\n",
              "    .colab-df-convert:hover {\n",
              "      background-color: #E2EBFA;\n",
              "      box-shadow: 0px 1px 2px rgba(60, 64, 67, 0.3), 0px 1px 3px 1px rgba(60, 64, 67, 0.15);\n",
              "      fill: #174EA6;\n",
              "    }\n",
              "\n",
              "    [theme=dark] .colab-df-convert {\n",
              "      background-color: #3B4455;\n",
              "      fill: #D2E3FC;\n",
              "    }\n",
              "\n",
              "    [theme=dark] .colab-df-convert:hover {\n",
              "      background-color: #434B5C;\n",
              "      box-shadow: 0px 1px 3px 1px rgba(0, 0, 0, 0.15);\n",
              "      filter: drop-shadow(0px 1px 2px rgba(0, 0, 0, 0.3));\n",
              "      fill: #FFFFFF;\n",
              "    }\n",
              "  </style>\n",
              "\n",
              "      <script>\n",
              "        const buttonEl =\n",
              "          document.querySelector('#df-9283ef35-e196-4d8d-8020-e699aa6ba32c button.colab-df-convert');\n",
              "        buttonEl.style.display =\n",
              "          google.colab.kernel.accessAllowed ? 'block' : 'none';\n",
              "\n",
              "        async function convertToInteractive(key) {\n",
              "          const element = document.querySelector('#df-9283ef35-e196-4d8d-8020-e699aa6ba32c');\n",
              "          const dataTable =\n",
              "            await google.colab.kernel.invokeFunction('convertToInteractive',\n",
              "                                                     [key], {});\n",
              "          if (!dataTable) return;\n",
              "\n",
              "          const docLinkHtml = 'Like what you see? Visit the ' +\n",
              "            '<a target=\"_blank\" href=https://colab.research.google.com/notebooks/data_table.ipynb>data table notebook</a>'\n",
              "            + ' to learn more about interactive tables.';\n",
              "          element.innerHTML = '';\n",
              "          dataTable['output_type'] = 'display_data';\n",
              "          await google.colab.output.renderOutput(dataTable, element);\n",
              "          const docLink = document.createElement('div');\n",
              "          docLink.innerHTML = docLinkHtml;\n",
              "          element.appendChild(docLink);\n",
              "        }\n",
              "      </script>\n",
              "    </div>\n",
              "  </div>\n",
              "  "
            ]
          },
          "metadata": {},
          "execution_count": 130
        }
      ]
    },
    {
      "cell_type": "markdown",
      "source": [
        "*   *The ordered set of topology changing edges is equivalent to the set of edges of the minimum spanning tree, in increasing order of weight.*\n",
        "*   *The algorithm places the points onto a plane such that the MST edges are preserved.* \n",
        "\n"
      ],
      "metadata": {
        "id": "6hH99VEy0jRr"
      }
    },
    {
      "cell_type": "markdown",
      "source": [
        "# ***EMST***"
      ],
      "metadata": {
        "id": "F2ABWO6B6NVg"
      }
    },
    {
      "cell_type": "code",
      "source": [
        "# each row represents an edge in Iris dataset\n",
        "# column 0 --> lesser index of the edge\n",
        "# column 1 --> greater index of the edge\n",
        "# column 2 --> distance between two points\n",
        "\n",
        "def compute_EMST(): \n",
        "    Emst = emst(input = points, naive=False)\n",
        "    out = Emst['output']\n",
        "    vertices = out[:,0:2]\n",
        "    edges = out[:,2]\n",
        "    return vertices, edges "
      ],
      "metadata": {
        "id": "0Vkid8vOY0kg"
      },
      "execution_count": 129,
      "outputs": []
    },
    {
      "cell_type": "code",
      "source": [
        "#Euclidean Minimum Spanning Tree \n",
        "points = iris_df.drop('target', axis = 1).to_numpy()\n",
        "target = iris_df['target'].to_numpy()\n",
        "r2_points = None \n",
        "v, e = compute_EMST()"
      ],
      "metadata": {
        "id": "oc38auPjaUkv"
      },
      "execution_count": 133,
      "outputs": []
    },
    {
      "cell_type": "markdown",
      "source": [
        "# ***Generalized MST Implementation***\n",
        "##### Allows for various distance metric inputs"
      ],
      "metadata": {
        "id": "jBn8CKJy6QJo"
      }
    },
    {
      "cell_type": "code",
      "source": [
        "#referenced from https://peekaboo-vision.blogspot.com/2012/02/simplistic-minimum-spanning-tree-in.html\n",
        "#Minimum Spanning Tree that allows for additional distance metrics\n",
        "from scipy.spatial.distance import pdist, squareform\n",
        "\n",
        "def minimum_spanning_tree(X, copy_X = True):\n",
        "    #X --> edge weights of fully connected graph\n",
        "    if copy_X:\n",
        "        X = X.copy()\n",
        "\n",
        "    if X.shape[0] != X.shape[1]:\n",
        "        raise ValueError(\"X needs to be square matrix of edge weights\")\n",
        "    \n",
        "    vertices = X.shape[0]\n",
        "    spanning_edges = []\n",
        "    \n",
        "    #initialize with node 0                                                                                         \n",
        "    visited_vertices = [0]                                                                                            \n",
        "    num_visited = 1\n",
        "\n",
        "    #excludes self connections\n",
        "    diag_indices = np.arange(vertices)\n",
        "    X[diag_indices, diag_indices] = np.inf\n",
        "    \n",
        "    while num_visited != vertices:\n",
        "\n",
        "        new_edge = np.argmin(X[visited_vertices], axis=None)\n",
        "        \n",
        "        #new_edge, get correct indices                                                      \n",
        "        new_edge = divmod(new_edge, vertices) #(quotient, remainder)\n",
        "        new_edge = [visited_vertices[new_edge[0]], new_edge[1]]                                                       \n",
        "        \n",
        "        #adds edge to tree\n",
        "        spanning_edges.append(new_edge)\n",
        "        visited_vertices.append(new_edge[1])\n",
        "       \n",
        "        #remove all edges inside current tree\n",
        "        X[visited_vertices, new_edge[1]] = np.inf\n",
        "        X[new_edge[1], visited_vertices] = np.inf                                                                     \n",
        "        num_visited += 1\n",
        "    \n",
        "    return np.vstack(spanning_edges)"
      ],
      "metadata": {
        "id": "W09Lj7z5luw3"
      },
      "execution_count": 188,
      "outputs": []
    },
    {
      "cell_type": "code",
      "source": [
        "def test_mst(distance_metric):\n",
        "    data = np.random.uniform(size=(50, 2))\n",
        "    \n",
        "    start = timeit.default_timer()\n",
        "    X = squareform(pdist(data, distance_metric))\n",
        "    edge_list = minimum_spanning_tree(X)\n",
        "    stop = timeit.default_timer()\n",
        "    \n",
        "    plt.title(distance_metric)\n",
        "    plt.scatter(data[:, 0], data[:, 1], color = \"darkseagreen\")\n",
        "    \n",
        "    for edge in edge_list:\n",
        "        i, j = edge\n",
        "        plt.plot([data[i, 0], data[j, 0]], [data[i, 1], data[j, 1]], c='forestgreen', linestyle =\":\")\n",
        "    plt.show()\n",
        "    print(\"(\" + distance_metric + \") \"+ 'Execution Time: ', stop - start)  "
      ],
      "metadata": {
        "id": "JbNQBhyWm41U"
      },
      "execution_count": 224,
      "outputs": []
    },
    {
      "cell_type": "code",
      "source": [
        "#Manhattan/City Block\n",
        "test_mst(\"cityblock\")"
      ],
      "metadata": {
        "colab": {
          "base_uri": "https://localhost:8080/",
          "height": 299
        },
        "id": "BvueqgGzm6hX",
        "outputId": "b6f2b3bf-0eeb-4926-f1ae-df9940fdb50c"
      },
      "execution_count": 233,
      "outputs": [
        {
          "output_type": "display_data",
          "data": {
            "text/plain": [
              "<Figure size 432x288 with 1 Axes>"
            ],
            "image/png": "[encoded data removed]"
          },
          "metadata": {
            "needs_background": "light"
          }
        },
        {
          "output_type": "stream",
          "name": "stdout",
          "text": [
            "(cityblock) Execution Time:  0.001494480000474141\n"
          ]
        }
      ]
    },
    {
      "cell_type": "code",
      "source": [
        "test_mst('euclidean')"
      ],
      "metadata": {
        "colab": {
          "base_uri": "https://localhost:8080/",
          "height": 299
        },
        "id": "x9IcXI3VnhA1",
        "outputId": "eee94dc3-acf2-42b2-f3a5-af65582f29e0"
      },
      "execution_count": 234,
      "outputs": [
        {
          "output_type": "display_data",
          "data": {
            "text/plain": [
              "<Figure size 432x288 with 1 Axes>"
            ],
            "image/png": "[encoded data removed]"
          },
          "metadata": {
            "needs_background": "light"
          }
        },
        {
          "output_type": "stream",
          "name": "stdout",
          "text": [
            "(euclidean) Execution Time:  0.0019118380005238578\n"
          ]
        }
      ]
    },
    {
      "cell_type": "code",
      "source": [
        "test_mst('mahalanobis')"
      ],
      "metadata": {
        "colab": {
          "base_uri": "https://localhost:8080/",
          "height": 299
        },
        "id": "4xdc8fSnni4K",
        "outputId": "0aec0cd8-5bc8-4248-fcad-deab460d66d7"
      },
      "execution_count": 238,
      "outputs": [
        {
          "output_type": "display_data",
          "data": {
            "text/plain": [
              "<Figure size 432x288 with 1 Axes>"
            ],
            "image/png": "[encoded data removed]"
          },
          "metadata": {
            "needs_background": "light"
          }
        },
        {
          "output_type": "stream",
          "name": "stdout",
          "text": [
            "(mahalanobis) Execution Time:  0.012272066000150517\n"
          ]
        }
      ]
    },
    {
      "cell_type": "code",
      "source": [
        ""
      ],
      "metadata": {
        "id": "BzjitarTv0JE"
      },
      "execution_count": 240,
      "outputs": []
    }
  ]
}